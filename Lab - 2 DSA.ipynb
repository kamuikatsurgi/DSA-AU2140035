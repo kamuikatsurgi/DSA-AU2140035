{
  "cells": [
    {
      "cell_type": "code",
      "execution_count": 210,
      "metadata": {
        "id": "OYEyY968lnwV"
      },
      "outputs": [],
      "source": [
        "#1. Write a function srch(array,element) that searches the array for the element and \n",
        "             #returns the index (position) in the array if the element is found, and -1 otherwise.\n",
        "def srch(array, element):\n",
        "    for i in range(len(array)):\n",
        "        if array[i] == element:\n",
        "            return i+1\n",
        "\n",
        "    return -1"
      ]
    },
    {
      "cell_type": "code",
      "execution_count": 211,
      "metadata": {
        "colab": {
          "base_uri": "https://localhost:8080/"
        },
        "id": "qjOEWyIWnE9B",
        "outputId": "60b41406-02a1-4d90-c340-675f3b712df8"
      },
      "outputs": [
        {
          "data": {
            "text/plain": [
              "-1"
            ]
          },
          "execution_count": 211,
          "metadata": {},
          "output_type": "execute_result"
        }
      ],
      "source": [
        "srch([1,4,3,2],5)"
      ]
    },
    {
      "cell_type": "code",
      "execution_count": 212,
      "metadata": {
        "id": "k4UQkdkVOhP4"
      },
      "outputs": [],
      "source": [
        "#2. Write a function insatind(array,position,element) to insert an element into an array at the specified index (position).\n",
        "def insatind(array, position, element):\n",
        "    new_array = []\n",
        "    if(position <= len(array) and position >= 0):\n",
        "        for i in range(0, len(array)):\n",
        "            if i < position-1:\n",
        "                new_array = new_array + [array[i]]\n",
        "            if i == position-1:\n",
        "                new_array = new_array + [element]\n",
        "            if i >= position-1:\n",
        "                new_array = new_array + [array[i]]\n",
        "        return new_array\n",
        "    else:\n",
        "        print(\"Invalid position\")"
      ]
    },
    {
      "cell_type": "code",
      "execution_count": 213,
      "metadata": {
        "colab": {
          "base_uri": "https://localhost:8080/"
        },
        "id": "Pop1g_VMqZRp",
        "outputId": "acf026b3-360e-48af-ef7c-47ed1373654c"
      },
      "outputs": [
        {
          "data": {
            "text/plain": [
              "[1, 4, 8, 3, 2]"
            ]
          },
          "execution_count": 213,
          "metadata": {},
          "output_type": "execute_result"
        }
      ],
      "source": [
        "insatind([1,4,3,2],3,8)"
      ]
    },
    {
      "cell_type": "code",
      "execution_count": 217,
      "metadata": {
        "id": "Bu8RmwRytQnA"
      },
      "outputs": [],
      "source": [
        "#3. Write a function delatind(array,position) to delete the element at the specified index (position) in the array.\n",
        "def delatind(array, position):\n",
        "    new_array = []\n",
        "    for i in range(len(array)):\n",
        "        if i != position - 1:\n",
        "            new_array = new_array + [array[i]]\n",
        "    return new_array"
      ]
    },
    {
      "cell_type": "code",
      "execution_count": 218,
      "metadata": {
        "colab": {
          "base_uri": "https://localhost:8080/"
        },
        "id": "Duz31DS-u-UH",
        "outputId": "a3c85062-1a1e-4df9-8986-f34b47ede150"
      },
      "outputs": [
        {
          "data": {
            "text/plain": [
              "[1, 4, 2]"
            ]
          },
          "execution_count": 218,
          "metadata": {},
          "output_type": "execute_result"
        }
      ],
      "source": [
        "delatind([1,4,3,2], 3)"
      ]
    },
    {
      "cell_type": "code",
      "execution_count": 219,
      "metadata": {
        "id": "A2hrS6hb3k7w"
      },
      "outputs": [],
      "source": [
        "#4. Write a function insatend(array,element) that inserts an element at the end of an array.\n",
        "def insatend(array, element):\n",
        "    return array + [element]"
      ]
    },
    {
      "cell_type": "code",
      "execution_count": 220,
      "metadata": {
        "colab": {
          "base_uri": "https://localhost:8080/"
        },
        "id": "QfLQkWNWwbdL",
        "outputId": "3fa86ff6-a344-4279-c2ca-4d8818786203"
      },
      "outputs": [
        {
          "data": {
            "text/plain": [
              "[1, 2, 3, 4, 6]"
            ]
          },
          "execution_count": 220,
          "metadata": {},
          "output_type": "execute_result"
        }
      ],
      "source": [
        "insatend([1,2,3,4],6)"
      ]
    },
    {
      "cell_type": "code",
      "execution_count": 221,
      "metadata": {
        "id": "lzRFW8Umwhx_"
      },
      "outputs": [],
      "source": [
        "#5. Write a function insatbeg(array,element) that inserts an element at the beginning of the array.\n",
        "def insatbeg(array, element):\n",
        "    return [element] + array"
      ]
    },
    {
      "cell_type": "code",
      "execution_count": 222,
      "metadata": {
        "colab": {
          "base_uri": "https://localhost:8080/"
        },
        "id": "heV_QZFnwzHh",
        "outputId": "4b700b8f-2eb2-4d1a-a65e-850cbb1b75e9"
      },
      "outputs": [
        {
          "data": {
            "text/plain": [
              "[6, 1, 2, 3, 4]"
            ]
          },
          "execution_count": 222,
          "metadata": {},
          "output_type": "execute_result"
        }
      ],
      "source": [
        "insatbeg([1,2,3,4],6)"
      ]
    },
    {
      "cell_type": "code",
      "execution_count": 223,
      "metadata": {
        "id": "vBQjxqKjw4ku"
      },
      "outputs": [],
      "source": [
        "#Link List class for all the questions\n",
        "class NodeList():\n",
        "    def __init__(self, data):\n",
        "        self.data = data\n",
        "        self.next = None\n",
        "        \n",
        "class LinkedList():\n",
        "    def __init__(self):\n",
        "        self.head = None\n",
        "        self.tail = None\n",
        "        \n",
        "    def print_list(self):\n",
        "        curr = self.head\n",
        "        while curr != None:\n",
        "            print(curr.data,end = \" \")\n",
        "            curr = curr.next\n",
        "            \n",
        "    def set_head(self, new_head):\n",
        "        self.head = new_head"
      ]
    },
    {
      "cell_type": "code",
      "execution_count": 224,
      "metadata": {
        "id": "Zp671tkyACi-"
      },
      "outputs": [],
      "source": [
        "a = NodeList(1)\n",
        "b = NodeList(2)\n",
        "c = NodeList(3)\n",
        "d = NodeList(7)\n",
        "\n",
        "link_list = LinkedList()\n",
        "link_list.set_head(a)\n",
        "\n",
        "a.next = b\n",
        "b.next = c\n",
        "c.next = d"
      ]
    },
    {
      "cell_type": "code",
      "execution_count": 225,
      "metadata": {
        "id": "k6UTIOPkAX7t"
      },
      "outputs": [],
      "source": [
        "#6. Write a function lsrch(linked_list,element) that searches a linked list for the element and returns the index (position) in the linked lsit \n",
        "                # if the element is found, and -1 otherwise.\n",
        "def lsrch(linkedList, element):\n",
        "    i = 1\n",
        "    curr = linkedList.head\n",
        "    while curr != None:\n",
        "        if curr.data == element:\n",
        "            return i\n",
        "        i = i + 1\n",
        "        curr = curr.next\n",
        "    return -1"
      ]
    },
    {
      "cell_type": "code",
      "execution_count": 226,
      "metadata": {
        "colab": {
          "base_uri": "https://localhost:8080/"
        },
        "id": "8z6uIoR2AnuL",
        "outputId": "97f0bbdb-bbaf-42cc-d5ca-4e1b931b86da"
      },
      "outputs": [
        {
          "data": {
            "text/plain": [
              "4"
            ]
          },
          "execution_count": 226,
          "metadata": {},
          "output_type": "execute_result"
        }
      ],
      "source": [
        "lsrch(link_list,7)"
      ]
    },
    {
      "cell_type": "code",
      "execution_count": 227,
      "metadata": {
        "id": "R1cSjcj7A-yW"
      },
      "outputs": [],
      "source": [
        "#7. Write a function linsatend(linked_list,element) that inserts an element at the end of a linked list.\n",
        "def linsatend(linkedList, element):\n",
        "    curr = linkedList.head\n",
        "\n",
        "    while curr.next != None:\n",
        "        curr = curr.next\n",
        "        \n",
        "    curr.next = NodeList(element)"
      ]
    },
    {
      "cell_type": "code",
      "execution_count": 228,
      "metadata": {
        "colab": {
          "base_uri": "https://localhost:8080/"
        },
        "id": "LVU7_VBABAic",
        "outputId": "4cac39b8-4f64-4017-8786-fb9f68398adb"
      },
      "outputs": [
        {
          "name": "stdout",
          "output_type": "stream",
          "text": [
            "1 2 3 7 4 "
          ]
        }
      ],
      "source": [
        "linsatend(link_list,4)\n",
        "link_list.print_list()"
      ]
    },
    {
      "cell_type": "code",
      "execution_count": 229,
      "metadata": {
        "id": "SY9em50sBfr8"
      },
      "outputs": [],
      "source": [
        "#8. (a) Write a function linsatbeg(linked_list,element) that inserts an element at the beginning of the linked list.\n",
        "def linsatbeg(linkedList, element):\n",
        "    newNode = NodeList(element)\n",
        "    newNode.next = linkedList.head\n",
        "    linkedList.set_head(newNode)"
      ]
    },
    {
      "cell_type": "code",
      "execution_count": 230,
      "metadata": {
        "colab": {
          "base_uri": "https://localhost:8080/"
        },
        "id": "4ogtgM6ZBnO6",
        "outputId": "0724b280-6fbb-4b50-c5ba-1efe89911452"
      },
      "outputs": [
        {
          "name": "stdout",
          "output_type": "stream",
          "text": [
            "0 1 2 3 7 4 "
          ]
        }
      ],
      "source": [
        "linsatbeg(link_list, 0)\n",
        "link_list.print_list()"
      ]
    },
    {
      "cell_type": "code",
      "execution_count": 231,
      "metadata": {
        "id": "AkSDZ6V9CDEn"
      },
      "outputs": [],
      "source": [
        "#8. (b) Write a function delatend(linked_list) that deletes the last element of the linked list.\n",
        "def delatend(linkedList):\n",
        "    curr = linkedList.head\n",
        "    prev_head = None\n",
        "    \n",
        "    while curr.next != None:\n",
        "        prev_head = curr\n",
        "        curr = curr.next\n",
        "    prev_head.next = None"
      ]
    },
    {
      "cell_type": "code",
      "execution_count": 232,
      "metadata": {
        "colab": {
          "base_uri": "https://localhost:8080/"
        },
        "id": "IR9cBcPICTQF",
        "outputId": "9968287a-3308-4bed-a5d7-bbdb7ef35d0a"
      },
      "outputs": [
        {
          "name": "stdout",
          "output_type": "stream",
          "text": [
            "0 1 2 3 7 "
          ]
        }
      ],
      "source": [
        "delatend(link_list)\n",
        "link_list.print_list()"
      ]
    },
    {
      "cell_type": "code",
      "execution_count": 233,
      "metadata": {
        "id": "QD5QYufPI2-5"
      },
      "outputs": [],
      "source": [
        "#9. Write a function replatind(array,position,element) to replace an element into an array at the specified index (position).\n",
        "def replatind_1(array,position,element):\n",
        "    if position >= 0 and position <= len(array):\n",
        "        for i in range(len(array)):\n",
        "            if i+1 == position:\n",
        "                array[i] = element\n",
        "                return array\n",
        "    else:\n",
        "        print(\"Enter valid index number\")"
      ]
    },
    {
      "cell_type": "code",
      "execution_count": 234,
      "metadata": {
        "colab": {
          "base_uri": "https://localhost:8080/"
        },
        "id": "7gddvnMHJjmE",
        "outputId": "5ca21123-0a76-4ba0-824f-0a159fab36eb"
      },
      "outputs": [
        {
          "data": {
            "text/plain": [
              "[1, 2, 3, 6]"
            ]
          },
          "execution_count": 234,
          "metadata": {},
          "output_type": "execute_result"
        }
      ],
      "source": [
        "replatind_1([1,2,3,4],4,6)"
      ]
    },
    {
      "cell_type": "code",
      "execution_count": 235,
      "metadata": {
        "id": "SGCR04pOCmov"
      },
      "outputs": [],
      "source": [
        "#10. Write a function replatind(linked_list,position,element) to replace an element in the linked_list at the specified position.\n",
        "def getCount(self):\n",
        "        temp = self.head # Initialise temp\n",
        "        count = 0 # Initialise count\n",
        "  \n",
        "        # Loop while end of linked list is not reached\n",
        "        while (temp):\n",
        "            count += 1\n",
        "            temp = temp.next\n",
        "        return count\n",
        "\n",
        "def replatind(linkedList, position, element):\n",
        "    curr = linkedList.head\n",
        "    prev_head = None\n",
        "    i = 1\n",
        "    if position > getCount(linkedList):\n",
        "        return -1\n",
        "        \n",
        "    elif position == 1:\n",
        "        newNode = NodeList(element)\n",
        "        newNode.next = linkedList.head.next\n",
        "        linkedList.set_head(newNode)\n",
        "        link_list.print_list()\n",
        "    else:\n",
        "        while i < position:\n",
        "            prev_head = curr\n",
        "            curr = curr.next\n",
        "            i = i + 1\n",
        "        new = NodeList(element)\n",
        "        prev_head.next = new\n",
        "        new.next = curr.next\n",
        "        link_list.print_list()"
      ]
    },
    {
      "cell_type": "code",
      "execution_count": 236,
      "metadata": {
        "colab": {
          "base_uri": "https://localhost:8080/"
        },
        "id": "MH1bENK2vQU8",
        "outputId": "295b8e76-f72a-48cc-b43f-f3a4dd92e20f"
      },
      "outputs": [
        {
          "name": "stdout",
          "output_type": "stream",
          "text": [
            "0 1 2 4 7 "
          ]
        }
      ],
      "source": [
        "replatind(link_list,4,4)"
      ]
    },
    {
      "cell_type": "code",
      "execution_count": 238,
      "metadata": {
        "colab": {
          "base_uri": "https://localhost:8080/"
        },
        "id": "W2Djz29qL3eB",
        "outputId": "247ea625-19e6-4656-f5c3-7792ea0b4c57"
      },
      "outputs": [
        {
          "name": "stdout",
          "output_type": "stream",
          "text": [
            "4 6 7 8 5 \n",
            "\n",
            "5 8 7 6 4 \n",
            "\n"
          ]
        }
      ],
      "source": [
        "#11. Write a function dubbly_append(dlinked_list,element) to append an element into the doubly linked list.\n",
        "class NodeList():\n",
        "    def __init__(self, data):\n",
        "        self.prev = None\n",
        "        self.data = data\n",
        "        self.next = None\n",
        "        \n",
        "class LinkedList():\n",
        "    def __init__(self):\n",
        "        self.head = None\n",
        "        self.tail = None\n",
        "        \n",
        "    def print_list(self):\n",
        "        curr = self.head\n",
        "        while curr != None:\n",
        "            print(curr.data, end=\" \")\n",
        "            curr = curr.next\n",
        "        print(\"\\n\")\n",
        "    \n",
        "    def print_list_rev(self):\n",
        "        curr = self.tail\n",
        "        while curr != None:\n",
        "            print(curr.data, end=\" \")\n",
        "            curr = curr.prev\n",
        "        print(\"\\n\")\n",
        "    \n",
        "    def set_tail(self, new_tail):\n",
        "        new_tail.next = None\n",
        "        self.tail = new_tail\n",
        "            \n",
        "    def set_head(self, new_head):\n",
        "        new_head.prev = None\n",
        "        self.head = new_head\n",
        "\n",
        "a = NodeList(4)\n",
        "b = NodeList(6)\n",
        "c = NodeList(7)\n",
        "d = NodeList(8)\n",
        "\n",
        "lili = LinkedList()\n",
        "lili.set_head(a)\n",
        "lili.set_tail(d)\n",
        "\n",
        "a.next = b\n",
        "b.prev = a\n",
        "b.next = c\n",
        "c.prev = b\n",
        "c.next = d\n",
        "d.prev = c\n",
        "\n",
        "def dubbly_append(linked, element):\n",
        "    curr = linked.head\n",
        "    while curr.next != None:\n",
        "        curr = curr.next\n",
        "    new = NodeList(element)\n",
        "    curr.next = new\n",
        "    new.prev = curr\n",
        "    linked.set_tail(new)\n",
        "\n",
        "dubbly_append(lili, 5)\n",
        "lili.print_list()\n",
        "lili.print_list_rev()"
      ]
    },
    {
      "cell_type": "code",
      "execution_count": 239,
      "metadata": {
        "colab": {
          "base_uri": "https://localhost:8080/"
        },
        "id": "VQPZFhBiPSqc",
        "outputId": "d5846b15-1add-4790-e355-96a25da45e0a"
      },
      "outputs": [
        {
          "name": "stdout",
          "output_type": "stream",
          "text": [
            "12 14 20 \n",
            "\n",
            "20 14 12 \n",
            "\n"
          ]
        }
      ],
      "source": [
        "#12. Write a function dubbly_remove(dlinked_list,element) to remove an element from the doubly linked list.\n",
        "class NodeList():\n",
        "    def __init__(self, data):\n",
        "        self.prev = None\n",
        "        self.data = data\n",
        "        self.next = None\n",
        "        \n",
        "class LinkedList():\n",
        "    def __init__(self):\n",
        "        self.head = None\n",
        "        self.tail = None\n",
        "        \n",
        "    def print_list(self):\n",
        "        curr = self.head\n",
        "        while curr != None:\n",
        "            print(curr.data, end=\" \")\n",
        "            curr = curr.next\n",
        "        print(\"\\n\")\n",
        "    \n",
        "    def print_list_rev(self):\n",
        "        curr = self.tail\n",
        "        while curr != None:\n",
        "            print(curr.data, end=\" \")\n",
        "            curr = curr.prev\n",
        "        print(\"\\n\")\n",
        "    \n",
        "    def set_tail(self, new_tail):\n",
        "        new_tail.next = None\n",
        "        self.tail = new_tail\n",
        "            \n",
        "    def set_head(self, new_head):\n",
        "        new_head.prev = None\n",
        "        self.head = new_head\n",
        "\n",
        "a = NodeList(3)\n",
        "b = NodeList(12)\n",
        "c = NodeList(14)\n",
        "d = NodeList(20)\n",
        "\n",
        "lili = LinkedList()\n",
        "lili.set_head(a)\n",
        "lili.set_tail(d)\n",
        "\n",
        "a.next = b\n",
        "b.prev = a\n",
        "b.next = c\n",
        "c.prev = b\n",
        "c.next = d\n",
        "d.prev = c\n",
        "\n",
        "def dubbly_remove(linked, element):\n",
        "    prev = None\n",
        "    curr = linked.head\n",
        "    while curr.data != element:\n",
        "        prev = curr\n",
        "        curr = curr.next\n",
        "    if prev != None:\n",
        "        if curr.next != None:\n",
        "            prev.next = curr.next\n",
        "            curr.next.prev = prev\n",
        "        else:\n",
        "            linked.set_tail(curr.prev)\n",
        "    else:\n",
        "        linked.set_head(curr.next)\n",
        "\n",
        "dubbly_remove(lili, 3)\n",
        "lili.print_list()\n",
        "lili.print_list_rev()"
      ]
    }
  ],
  "metadata": {
    "colab": {
      "collapsed_sections": [],
      "name": "Lab 2.ipynb",
      "provenance": []
    },
    "kernelspec": {
      "display_name": "Python 3",
      "name": "python3"
    },
    "language_info": {
      "name": "python"
    }
  },
  "nbformat": 4,
  "nbformat_minor": 0
}
