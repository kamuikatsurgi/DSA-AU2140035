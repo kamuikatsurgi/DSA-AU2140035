{
  "nbformat": 4,
  "nbformat_minor": 0,
  "metadata": {
    "colab": {
      "provenance": [],
      "collapsed_sections": []
    },
    "kernelspec": {
      "name": "python3",
      "display_name": "Python 3"
    },
    "language_info": {
      "name": "python"
    }
  },
  "cells": [
    {
      "cell_type": "markdown",
      "source": [
        "Q1(a). Using Linear Probing, create two hashtables (arrays) of sizes (a) 17 and (b) 37.\n",
        "\n",
        "*  Add the following numbers to both the hashtables (The numbers are written into the array ):\n",
        "\n",
        "    133, 88, 92, 221, 174\n",
        "\n",
        "\n",
        "*  Now, check if these numbers are in the hashtables or not.\n",
        "\n",
        "    100, 133, 174\n",
        "    \n",
        "(b) Create a list of numbers (this list should be unique for each student) to demonstrate primary clustering."
      ],
      "metadata": {
        "id": "T1JVYKEtFVvG"
      }
    },
    {
      "cell_type": "code",
      "source": [
        "class Hash_Linear:\n",
        "    def __init__(self, size):\n",
        "        self.size = size\n",
        "        self.linear = [None] * self.size\n",
        "\n",
        "    def get_hash(self, keys):\n",
        "        self.hash = []\n",
        "        for key in keys:\n",
        "            print(key, \"-->\", key % self.size)\n",
        "            self.hash.append(key % self.size)\n",
        "        return self.hash\n",
        "\n",
        "    def insert_linear(self, value):\n",
        "        key_hash = value % self.size\n",
        "        key_value = value\n",
        "        if self.linear[key_hash] is None:\n",
        "            self.linear[key_hash] = key_value\n",
        "            return self.linear\n",
        "        else:\n",
        "            k = key_hash\n",
        "            while True:\n",
        "                if self.linear[k] is None:\n",
        "                    self.linear[k] = key_value\n",
        "                    break\n",
        "                else:\n",
        "                    k = k+1\n",
        "                    k = k % self.size\n",
        "            return self.linear\n",
        "\n",
        "    def check_linear(self, value):\n",
        "        k = value % self.size\n",
        "        if self.linear[k] == value:\n",
        "            return True\n",
        "        else:\n",
        "            while True:\n",
        "                if self.linear[k] is None:\n",
        "                    break\n",
        "                elif self.linear[k] == value:\n",
        "                    return True\n",
        "                else:\n",
        "                    k += 1\n",
        "                    k = k % self.size\n",
        "        return False"
      ],
      "metadata": {
        "id": "C1zSv2n7dRKS"
      },
      "execution_count": 61,
      "outputs": []
    },
    {
      "cell_type": "code",
      "source": [
        "a = Hash_Linear(17)\n",
        "a.insert_linear(133)\n",
        "a.insert_linear(88)\n",
        "a.insert_linear(92)\n",
        "a.insert_linear(221)\n",
        "a.insert_linear(174)\n",
        "a.get_hash([133, 88, 92, 221, 174])\n",
        "print(a.check_linear(100))\n",
        "print(a.check_linear(133))\n",
        "print(a.check_linear(174))"
      ],
      "metadata": {
        "colab": {
          "base_uri": "https://localhost:8080/"
        },
        "id": "7EbLMs_ieKf_",
        "outputId": "002680c9-3b3f-4b45-d23c-7a2f0d147d7c"
      },
      "execution_count": 62,
      "outputs": [
        {
          "output_type": "stream",
          "name": "stdout",
          "text": [
            "133 --> 14\n",
            "88 --> 3\n",
            "92 --> 7\n",
            "221 --> 0\n",
            "174 --> 4\n",
            "False\n",
            "True\n",
            "True\n"
          ]
        }
      ]
    },
    {
      "cell_type": "code",
      "source": [
        "a = Hash_Linear(37)\n",
        "a.insert_linear(133)\n",
        "a.insert_linear(88)\n",
        "a.insert_linear(92)\n",
        "a.insert_linear(221)\n",
        "a.insert_linear(174)\n",
        "a.get_hash([133, 88, 92, 221, 174])\n",
        "print(a.check_linear(100))\n",
        "print(a.check_linear(133))\n",
        "print(a.check_linear(174))"
      ],
      "metadata": {
        "colab": {
          "base_uri": "https://localhost:8080/"
        },
        "id": "o6MphEb6ic0N",
        "outputId": "f25f053a-9641-4d91-8f80-8f26cb08c043"
      },
      "execution_count": 63,
      "outputs": [
        {
          "output_type": "stream",
          "name": "stdout",
          "text": [
            "133 --> 22\n",
            "88 --> 14\n",
            "92 --> 18\n",
            "221 --> 36\n",
            "174 --> 26\n",
            "False\n",
            "True\n",
            "True\n"
          ]
        }
      ]
    },
    {
      "cell_type": "code",
      "source": [
        "a = Hash_Linear(17)\n",
        "a.insert_linear(17)\n",
        "a.insert_linear(34)\n",
        "a.insert_linear(51)\n",
        "a.insert_linear(221)\n",
        "a.insert_linear(68)\n",
        "a.get_hash([17,34,51,221,68])\n",
        "print(a.check_linear(17))\n",
        "print(a.check_linear(221))\n",
        "print(a.check_linear(174))"
      ],
      "metadata": {
        "colab": {
          "base_uri": "https://localhost:8080/"
        },
        "id": "srKPzzifihwJ",
        "outputId": "258f8d0c-9882-4f4c-ff20-7068e25b9278"
      },
      "execution_count": 64,
      "outputs": [
        {
          "output_type": "stream",
          "name": "stdout",
          "text": [
            "17 --> 0\n",
            "34 --> 0\n",
            "51 --> 0\n",
            "221 --> 0\n",
            "68 --> 0\n",
            "True\n",
            "True\n",
            "False\n"
          ]
        }
      ]
    },
    {
      "cell_type": "markdown",
      "source": [
        "Q2. Using Quadratic Probing, create two hashtables (arrays) of sizes (a) 17 and (b) 37.\n",
        "\n",
        "* Add the following numbers to both the hashtables (The numbers are written into the array ):\n",
        "\n",
        "    133, 88, 92, 221, 174\n",
        "\n",
        "* Now, check if these numbers are in the hashtables or not.\n",
        "\n",
        "    100, 133, 174\n",
        "\n",
        "(b) Create a list of numbers (this list should be unique for each student) to demonstrate secondary clustering."
      ],
      "metadata": {
        "id": "JxrIrel-Fmoy"
      }
    },
    {
      "cell_type": "code",
      "source": [
        "class Hash_Quadratic:\n",
        "    def __init__(self, size):\n",
        "        self.size = size\n",
        "        self.quad = [None] * self.size\n",
        "\n",
        "    def get_hash(self, keys):\n",
        "        self.hash = []\n",
        "        for key in keys:\n",
        "            print(key, \"-->\", key % self.size)\n",
        "            self.hash.append(key % self.size)\n",
        "        return self.hash\n",
        "\n",
        "    def insert_quadratic(self, arr):\n",
        "        for i in range(len(arr)):\n",
        "            key = arr[i] % self.size\n",
        "            if (self.quad[key] == None):\n",
        "                self.quad[key] = arr[i]\n",
        "            else:\n",
        "                for j in range(self.size):\n",
        "                    t = (key + j * j) % self.size\n",
        "                    if (self.quad[t] == None):\n",
        "                        self.quad[t] = arr[i]\n",
        "                        break\n",
        "        return self.quad\n",
        "\n",
        "    def check_quad(self, value):\n",
        "        key = value % self.size\n",
        "        flag = 0\n",
        "        if self.quad[key] == value:\n",
        "            flag = 1\n",
        "        else:\n",
        "            if self.quad[key] is None:\n",
        "                flag = 0\n",
        "            else:\n",
        "                for j in range(self.size):\n",
        "                    key = (key + j * j) % self.size\n",
        "                    if self.quad[key] == value:\n",
        "                        flag = 1\n",
        "        if flag == 0:\n",
        "            return False\n",
        "        else:\n",
        "            return True"
      ],
      "metadata": {
        "id": "AZE1_NzbCK3C"
      },
      "execution_count": 65,
      "outputs": []
    },
    {
      "cell_type": "code",
      "source": [
        "a = Hash_Quadratic(17)\n",
        "a.insert_quadratic([133, 88, 92, 221, 174])\n",
        "a.get_hash([133, 88, 92, 221, 174])\n",
        "print(a.check_quad(100))\n",
        "print(a.check_quad(133))\n",
        "print(a.check_quad(174))"
      ],
      "metadata": {
        "colab": {
          "base_uri": "https://localhost:8080/"
        },
        "id": "9FIUg_kODNgq",
        "outputId": "3bd523d8-fa87-44bc-edd3-38314bc4bc45"
      },
      "execution_count": 66,
      "outputs": [
        {
          "output_type": "stream",
          "name": "stdout",
          "text": [
            "133 --> 14\n",
            "88 --> 3\n",
            "92 --> 7\n",
            "221 --> 0\n",
            "174 --> 4\n",
            "False\n",
            "True\n",
            "True\n"
          ]
        }
      ]
    },
    {
      "cell_type": "code",
      "source": [
        "a = Hash_Quadratic(37)\n",
        "a.insert_quadratic([133, 88, 92, 221, 174])\n",
        "a.get_hash([133, 88, 92, 221, 174])\n",
        "print(a.check_quad(100))\n",
        "print(a.check_quad(133))\n",
        "print(a.check_quad(174))"
      ],
      "metadata": {
        "colab": {
          "base_uri": "https://localhost:8080/"
        },
        "id": "lcVKMSQRKeme",
        "outputId": "c2c0f54f-5a74-41bb-cdda-844e1d41e0df"
      },
      "execution_count": 67,
      "outputs": [
        {
          "output_type": "stream",
          "name": "stdout",
          "text": [
            "133 --> 22\n",
            "88 --> 14\n",
            "92 --> 18\n",
            "221 --> 36\n",
            "174 --> 26\n",
            "False\n",
            "True\n",
            "True\n"
          ]
        }
      ]
    },
    {
      "cell_type": "code",
      "source": [
        "a = Hash_Quadratic(17)\n",
        "a.insert_quadratic([17,34,51,221,68])\n",
        "a.get_hash([17,34,51,221,68])\n",
        "print(a.check_quad(17))\n",
        "print(a.check_quad(51))\n",
        "print(a.check_quad(123))"
      ],
      "metadata": {
        "colab": {
          "base_uri": "https://localhost:8080/"
        },
        "id": "EUiJzcwyKn7S",
        "outputId": "164d05a3-d274-4985-8265-d1d2a56cc76a"
      },
      "execution_count": 68,
      "outputs": [
        {
          "output_type": "stream",
          "name": "stdout",
          "text": [
            "17 --> 0\n",
            "34 --> 0\n",
            "51 --> 0\n",
            "221 --> 0\n",
            "68 --> 0\n",
            "True\n",
            "True\n",
            "False\n"
          ]
        }
      ]
    },
    {
      "cell_type": "markdown",
      "source": [
        "Q3. Using Double Hashing, create one hashtable (array) with M = 17, P = 11.\n",
        "\n",
        "\n",
        "\n",
        "* Add the following numbers to the hashtables (The numbers are written into the array ):\n",
        "\n",
        "    133, 88, 92, 221, 174\n",
        "\n",
        "* Now, check if these numbers are in the hashtables or not.\n",
        "\n",
        "    100, 133, 174"
      ],
      "metadata": {
        "id": "_oii2vlMGC61"
      }
    },
    {
      "cell_type": "code",
      "source": [
        "class Hash_Double:\n",
        "    def __init__(self, size):\n",
        "        self.size = size\n",
        "        self.p = 11\n",
        "        self.table = list(None for i in range(self.size))\n",
        "    \n",
        "    def get_hash(self, keys):\n",
        "        self.hash = []\n",
        "        for key in keys:\n",
        "            print(key, \"-->\", key % self.size)\n",
        "            self.hash.append(key % self.size)\n",
        "        return self.hash\n",
        "    \n",
        "    def h1(self, element):\n",
        "        return element % self.size\n",
        "       \n",
        "    def h2(self, element):\n",
        "        return element % self.p\n",
        "    \n",
        "    def doubleHashing(self, element, position):\n",
        "        pos = False\n",
        "        limit = 50\n",
        "        i = 2\n",
        "        while i <= limit:\n",
        "            newPosition = (i * self.h1(element) + self.h2(element)) % self.size\n",
        "            if self.table[newPosition] == None:\n",
        "                pos = True\n",
        "                break\n",
        "            else:\n",
        "                i += 1\n",
        "        return pos, newPosition\n",
        "    \n",
        "    def insert_double(self, element):\n",
        "        pos = False\n",
        "        position = self.h1(element)\n",
        "        if self.table[position] == None:\n",
        "            self.table[position] = element\n",
        "        else:\n",
        "            while not pos:\n",
        "                pos, position = self.doubleHashing(element, position)\n",
        "                if pos:\n",
        "                    self.table[position] = element\n",
        "        return self.table\n",
        "    \n",
        "    def check_double(self, element):\n",
        "        found = False\n",
        "        position = self.h1(element)\n",
        "        if(self.table[position] == element):\n",
        "            return True\n",
        "        else:\n",
        "            limit = 50\n",
        "            i = 2\n",
        "            newPosition = position\n",
        "            while i <= limit:\n",
        "                position = (i * self.h1(element) + self.h2(element)) % self.size\n",
        "                if self.table[position] == element:\n",
        "                    found = True\n",
        "                    break\n",
        "                elif self.table[position] == None:\n",
        "                    found = False\n",
        "                    break\n",
        "                else:\n",
        "                    i += 1\n",
        "        return found"
      ],
      "metadata": {
        "id": "LcsuJYybOALN"
      },
      "execution_count": 69,
      "outputs": []
    },
    {
      "cell_type": "code",
      "source": [
        "a = Hash_Double(17)\n",
        "a.insert_double(133)\n",
        "a.insert_double(82)\n",
        "a.insert_double(92)\n",
        "a.insert_double(221)\n",
        "a.insert_double(174)\n",
        "a.get_hash([133, 88, 92, 221, 174])\n",
        "print(a.check_double(100))\n",
        "print(a.check_double(133))\n",
        "print(a.check_double(174))"
      ],
      "metadata": {
        "colab": {
          "base_uri": "https://localhost:8080/"
        },
        "id": "H1EJsEQkdmfn",
        "outputId": "80db71d8-2065-475e-8e66-44341ee9b912"
      },
      "execution_count": 70,
      "outputs": [
        {
          "output_type": "stream",
          "name": "stdout",
          "text": [
            "133 --> 14\n",
            "88 --> 3\n",
            "92 --> 7\n",
            "221 --> 0\n",
            "174 --> 4\n",
            "False\n",
            "True\n",
            "True\n"
          ]
        }
      ]
    },
    {
      "cell_type": "markdown",
      "source": [
        "Q4. Create two hashtables (arrays) of size 17 and 37.\n",
        "\n",
        "* This time, each hashtable is an array of bits.\n",
        "\n",
        "* There are two arrays of 17 bits and 37 bits, all initialised to 0 (zero).\n",
        "\n",
        "* Consider the following number: 142.\n",
        "\n",
        "    142%17 = 6\n",
        "\n",
        "    142%37 = 31\n",
        "    \n",
        "    142 is \"added\" to the hashtable by setting to 1 the 6th and the 31st bit of the two hashtables respectively.\n",
        "    \n",
        "    To check if 142 is in the list, just check if 6th (in the first) and 31st (in the second) are set to 1.\n",
        " \n",
        "\n",
        "\n",
        "* Add the following numbers:\n",
        "\n",
        "    133, 88, 92, 221, 174\n",
        "\n",
        "* Check if these numbers are in the hashtable or not:\n",
        "\n",
        "    100, 133, 174"
      ],
      "metadata": {
        "id": "OPXMaiGHGT2L"
      }
    },
    {
      "cell_type": "code",
      "source": [
        "class Hash_Bits:\n",
        "    def __init__(self):\n",
        "        self.l1 = [0] * 17\n",
        "        self.l2 = [0] * 30\n",
        "\n",
        "    def get_hash(self, keys):\n",
        "        self.h1 = []\n",
        "        self.h2 = []\n",
        "        print(\"For size 17, Hash values are:\")\n",
        "        for key in keys:\n",
        "            k1 = key % 17\n",
        "            print(key, \"-->\", k1)\n",
        "            self.h1.append(k1)\n",
        "        print(\"For size 30, Hash values are:\")\n",
        "        for key in keys:\n",
        "            k2 = key % 30\n",
        "            print(key, \"-->\", k2)\n",
        "            self.h2.append(k2)\n",
        "        return self.h1, self.h2\n",
        "\n",
        "    def insert_bits(self, value):\n",
        "        k1 = value % 17\n",
        "        k2 = value % 30\n",
        "        if self.l1[k1] is 0:\n",
        "            self.l1[k1] = 1\n",
        "        else:\n",
        "            while True:\n",
        "                if self.l1[k1] is 0:\n",
        "                    self.l1[k1] = 1\n",
        "                    break\n",
        "                else:\n",
        "                    k1 += 1\n",
        "                    k1 = k1 % 17\n",
        "\n",
        "        if self.l2[k2] is 0:\n",
        "            self.l2[k2] = 1\n",
        "        else:\n",
        "            while True:\n",
        "                if self.l2[k2] is 0:\n",
        "                    self.l2[k2] = 1\n",
        "                    break\n",
        "                else:\n",
        "                    k2 += 1\n",
        "                    k2 = k2 % 17\n",
        "        return self.l1, self.l2\n",
        "\n",
        "    def check_bits(self, value):\n",
        "        k1 = value % 17\n",
        "        k2 = value % 30\n",
        "        if self.l1[k1] == 1 and self.l2[k2] == 1:\n",
        "            return True\n",
        "        else:\n",
        "            while True:\n",
        "                if self.l1[k1] is 0 or self.l2[k2] is 0:\n",
        "                    return False\n",
        "                if self.l1[k1] == 1 and self.l2[k2] == 1:\n",
        "                    return True\n",
        "                else:\n",
        "                    k1 = k1 + 1\n",
        "                    k2 += 1\n",
        "                    k1 = k1 % 17\n",
        "                    k2 = k2 % 30\n",
        "        return False"
      ],
      "metadata": {
        "id": "KkyAdVCR_-mr"
      },
      "execution_count": 72,
      "outputs": []
    },
    {
      "cell_type": "code",
      "source": [
        "a = Hash_Bits()\n",
        "a.insert_bits(142)\n",
        "a.get_hash([142])"
      ],
      "metadata": {
        "colab": {
          "base_uri": "https://localhost:8080/"
        },
        "id": "RMSj1tYJFLaI",
        "outputId": "1b383a9c-baa3-4b6a-ec94-604ca6afc451"
      },
      "execution_count": 73,
      "outputs": [
        {
          "output_type": "stream",
          "name": "stdout",
          "text": [
            "For size 17, Hash values are:\n",
            "142 --> 6\n",
            "For size 30, Hash values are:\n",
            "142 --> 22\n"
          ]
        },
        {
          "output_type": "execute_result",
          "data": {
            "text/plain": [
              "([6], [22])"
            ]
          },
          "metadata": {},
          "execution_count": 73
        }
      ]
    },
    {
      "cell_type": "code",
      "source": [
        "a = Hash_Bits()\n",
        "a.insert_bits(133)\n",
        "a.insert_bits(88)\n",
        "a.insert_bits(92)\n",
        "a.insert_bits(221)\n",
        "a.insert_bits(174)\n",
        "a.get_hash([133, 88, 92, 221, 174])\n",
        "print(a.check_bits(100))\n",
        "print(a.check_bits(133))\n",
        "print(a.check_bits(174))"
      ],
      "metadata": {
        "colab": {
          "base_uri": "https://localhost:8080/"
        },
        "id": "eF94ysR2BVYk",
        "outputId": "804a90b2-ee91-4f1a-f127-9752470160a5"
      },
      "execution_count": 75,
      "outputs": [
        {
          "output_type": "stream",
          "name": "stdout",
          "text": [
            "For size 17, Hash values are:\n",
            "133 --> 14\n",
            "88 --> 3\n",
            "92 --> 7\n",
            "221 --> 0\n",
            "174 --> 4\n",
            "For size 30, Hash values are:\n",
            "133 --> 13\n",
            "88 --> 28\n",
            "92 --> 2\n",
            "221 --> 11\n",
            "174 --> 24\n",
            "False\n",
            "True\n",
            "True\n"
          ]
        }
      ]
    },
    {
      "cell_type": "markdown",
      "source": [
        "Q5. Create a polynomial hash for a string.\n",
        "\n",
        "* a is non-zero\n",
        "* si is the ASCII value of the \n",
        "* ith character in the string\n",
        "* n is the length of the string\n",
        "* Add the following strings:\n",
        "\n",
        "    fist, sift, shift, fast, faster, shaft\n",
        "\n",
        "    Show their polynomial values\n",
        "\n",
        "    Also their hash values modulo 17 and 37"
      ],
      "metadata": {
        "id": "CgmY5XVAH_J5"
      }
    },
    {
      "cell_type": "code",
      "source": [
        "import math\n",
        "\n",
        "class String:\n",
        "    def __init__(self, size):\n",
        "        self.size = size\n",
        "        self.s = ''\n",
        "        self.string = [None] * self.size\n",
        "\n",
        "    def get_hash(self, keys):\n",
        "        p = 31\n",
        "        hash_value = 0\n",
        "        l = len(keys) - 1\n",
        "        for i in keys:\n",
        "            hash_value += (ord(i))*(math.pow(p,l))\n",
        "            l -= 1\n",
        "            hash_value = int(hash_value)\n",
        "        for key in keys:\n",
        "            k = hash_value % self.size\n",
        "        print(\"The polynomial value of\", keys, \"-->\", hash_value)\n",
        "        print(\"The hash value of\", keys, \"-->\", k)\n",
        "\n",
        "    def insert_string(self, value):\n",
        "        self.s = value\n",
        "        p = 31\n",
        "        hash_value = 0\n",
        "        l = len(self.s) - 1\n",
        "        for i in self.s:\n",
        "            hash_value += (ord(i))*(math.pow(p,l))\n",
        "            l -= 1\n",
        "        k = int(hash_value % self.size)\n",
        "        if self.string[k] is None:\n",
        "            self.string[k] = value\n",
        "            return self.string\n",
        "        else:\n",
        "            while True:\n",
        "                if self.string[k] is None:\n",
        "                    self.string[k] = value\n",
        "                    break\n",
        "                else:\n",
        "                    k = k+1\n",
        "                    k = k % self.size\n",
        "            return self.string"
      ],
      "metadata": {
        "id": "HC7_k2OSHFvq"
      },
      "execution_count": 77,
      "outputs": []
    },
    {
      "cell_type": "code",
      "source": [
        "a = String(17)\n",
        "a.insert_string('fist')\n",
        "a.insert_string('sift')\n",
        "a.insert_string('shift')\n",
        "a.insert_string('fast')\n",
        "a.insert_string('faster')\n",
        "a.insert_string('shaft')\n",
        "a.get_hash('fist')\n",
        "a.get_hash('sift')\n",
        "a.get_hash('shift')\n",
        "a.get_hash('fast')\n",
        "a.get_hash('faster')\n",
        "a.get_hash('shaft')"
      ],
      "metadata": {
        "id": "Nd9gOvS5PQFN",
        "colab": {
          "base_uri": "https://localhost:8080/"
        },
        "outputId": "567f5994-ffa9-4ab6-8ea7-e420a9ab7e2d"
      },
      "execution_count": 78,
      "outputs": [
        {
          "output_type": "stream",
          "name": "stdout",
          "text": [
            "The polynomial value of fist --> 3143268\n",
            "The hash value of fist --> 2\n",
            "The polynomial value of sift --> 3530148\n",
            "The hash value of sift --> 13\n",
            "The polynomial value of shift --> 109407362\n",
            "The hash value of shift --> 3\n",
            "The polynomial value of fast --> 3135580\n",
            "The hash value of fast --> 15\n",
            "The polynomial value of faster --> 3013295625\n",
            "The hash value of faster --> 14\n",
            "The polynomial value of shaft --> 109399674\n",
            "The hash value of shaft --> 16\n"
          ]
        }
      ]
    },
    {
      "cell_type": "code",
      "source": [
        "a = String(37)\n",
        "a.insert_string('fist')\n",
        "a.insert_string('sift')\n",
        "a.insert_string('shift')\n",
        "a.insert_string('fast')\n",
        "a.insert_string('faster')\n",
        "a.insert_string('shaft')\n",
        "a.get_hash('fist')\n",
        "a.get_hash('sift')\n",
        "a.get_hash('shift')\n",
        "a.get_hash('fast')\n",
        "a.get_hash('faster')\n",
        "a.get_hash('shaft')"
      ],
      "metadata": {
        "colab": {
          "base_uri": "https://localhost:8080/"
        },
        "id": "4x1ruq35R9uz",
        "outputId": "2023a50a-4b9f-4297-d7d7-64b5207f0561"
      },
      "execution_count": 79,
      "outputs": [
        {
          "output_type": "stream",
          "name": "stdout",
          "text": [
            "The polynomial value of fist --> 3143268\n",
            "The hash value of fist --> 7\n",
            "The polynomial value of sift --> 3530148\n",
            "The hash value of sift --> 15\n",
            "The polynomial value of shift --> 109407362\n",
            "The hash value of shift --> 27\n",
            "The polynomial value of fast --> 3135580\n",
            "The hash value of fast --> 15\n",
            "The polynomial value of faster --> 3013295625\n",
            "The hash value of faster --> 11\n",
            "The polynomial value of shaft --> 109399674\n",
            "The hash value of shaft --> 35\n"
          ]
        }
      ]
    },
    {
      "cell_type": "markdown",
      "source": [
        "Q6. Create a 2D array for hashing numbers.\n",
        "\n",
        "* The hash value decides the row, and the number gets appended to the row.\n",
        "\n"
      ],
      "metadata": {
        "id": "FvRYZJOiIi3I"
      }
    },
    {
      "cell_type": "code",
      "source": [
        "class Array_2D:\n",
        "    def __init__(self,size):\n",
        "        self.size = size\n",
        "        self.hashtable = [[] for _ in range(self.size)]\n",
        "\n",
        "    def display_hash(self):\n",
        "        for i in range(self.size):\n",
        "            print(i, end = \" \")\n",
        "            for j in self.hashtable[i]:\n",
        "                print(\"-->\", end = \" \")\n",
        "                print(j, end = \" \")\n",
        "            print()\n",
        "\n",
        "    def insert_array(self, keyvalue):\n",
        "        hash_key = keyvalue % self.size\n",
        "        self.hashtable[hash_key].append(keyvalue)"
      ],
      "metadata": {
        "id": "Y-Z1iHEbinJB"
      },
      "execution_count": 80,
      "outputs": []
    },
    {
      "cell_type": "code",
      "source": [
        "a = Array_2D(11)\n",
        "for i in range(1,100):\n",
        "    a.insert_array(i)\n",
        "a.display_hash()"
      ],
      "metadata": {
        "colab": {
          "base_uri": "https://localhost:8080/"
        },
        "id": "sVBv787Din6Q",
        "outputId": "e126d00b-5f87-41f6-92c1-df54e5566bbd"
      },
      "execution_count": 81,
      "outputs": [
        {
          "output_type": "stream",
          "name": "stdout",
          "text": [
            "0 --> 11 --> 22 --> 33 --> 44 --> 55 --> 66 --> 77 --> 88 --> 99 \n",
            "1 --> 1 --> 12 --> 23 --> 34 --> 45 --> 56 --> 67 --> 78 --> 89 \n",
            "2 --> 2 --> 13 --> 24 --> 35 --> 46 --> 57 --> 68 --> 79 --> 90 \n",
            "3 --> 3 --> 14 --> 25 --> 36 --> 47 --> 58 --> 69 --> 80 --> 91 \n",
            "4 --> 4 --> 15 --> 26 --> 37 --> 48 --> 59 --> 70 --> 81 --> 92 \n",
            "5 --> 5 --> 16 --> 27 --> 38 --> 49 --> 60 --> 71 --> 82 --> 93 \n",
            "6 --> 6 --> 17 --> 28 --> 39 --> 50 --> 61 --> 72 --> 83 --> 94 \n",
            "7 --> 7 --> 18 --> 29 --> 40 --> 51 --> 62 --> 73 --> 84 --> 95 \n",
            "8 --> 8 --> 19 --> 30 --> 41 --> 52 --> 63 --> 74 --> 85 --> 96 \n",
            "9 --> 9 --> 20 --> 31 --> 42 --> 53 --> 64 --> 75 --> 86 --> 97 \n",
            "10 --> 10 --> 21 --> 32 --> 43 --> 54 --> 65 --> 76 --> 87 --> 98 \n"
          ]
        }
      ]
    },
    {
      "cell_type": "markdown",
      "source": [
        "Q7. Assigning jobs to servers.\n",
        "\n",
        "* There are 17 servers numbered 0..16.\n",
        "\n",
        "* The students of CSE205 with roll numbers from 1 to 126 are assigned to these servers using a modulo 17 hashing strategy (roll_no % 17).\n",
        "\n",
        "* The students starts working on their assigned servers. After some time, 4 servers crash, and we are left with 13 servers.\n",
        "\n",
        "* Now, we need to rehash. Such a rehash would typically require every student to be reassigned to a new server.\n",
        "\n",
        "    (a) Come up with a strategy (algorithm) such that least number of students are affected by the crash.\n",
        "\n",
        "    (b) The reassigned students should be spread as fairly as possible across the remaining servers."
      ],
      "metadata": {
        "id": "TNAZ7xrPI9Oi"
      }
    },
    {
      "cell_type": "code",
      "source": [
        "def setNone(hash):\n",
        "    for i in range(len(hash)):\n",
        "        hash[i] = None\n",
        "\n",
        "class Servers:\n",
        "\n",
        "    def __init__(self, size):\n",
        "        self.size = size\n",
        "        self.values = [None]*size\n",
        "        for i in range(size):\n",
        "            self.values[i] = []\n",
        "\n",
        "    def insert(self,value):\n",
        "        pos = value % self.size\n",
        "        self.values[pos].append(value)\n",
        "\n",
        "    def crash(self,s1, s2, s3, s4):\n",
        "        m = s1 + s2 + s3 + s4\n",
        "        for i in range(self.size):\n",
        "            if(i == s1):\n",
        "                key = (m + (self.values[s1][0])) % 17\n",
        "                print(\"Everyone from server \" , i, \"will go to \", key)\n",
        "                for j in range(len(self.values[s1])):\n",
        "                    self.values[key].append(self.values[s1][j])\n",
        "                setNone(self.values[s1])\n",
        "            elif(i == s2):\n",
        "                key = (m + (self.values[s2][0])) % 17\n",
        "                print(\"Everyone from server \" , i, \"will go to \", key)\n",
        "                for j in range(len(self.values[s2])):\n",
        "                    self.values[key].append(self.values[s2][j])\n",
        "                setNone(self.values[s2])\n",
        "            \n",
        "            elif(i == s3):\n",
        "                key = (m + (self.values[s3][0])) % 17\n",
        "                print(\"Everyone from server \" , i, \"will go to \", key)\n",
        "                for j in range(len(self.values[s3])):\n",
        "                    self.values[key].append(self.values[s3][j])\n",
        "                setNone(self.values[s3])\n",
        "\n",
        "            elif(i == s4):\n",
        "                key = (m + (self.values[s4][0])) % 17\n",
        "                print(\"Everyone from server \" , i, \"will go to \", key)\n",
        "                for j in range(len(self.values[s4])):\n",
        "                    self.values[key].append(self.values[s4][j])\n",
        "                setNone(self.values[s4])\n",
        "            else:\n",
        "                continue\n",
        "                    \n",
        "    def printTable(self):\n",
        "        for i in range(self.size):\n",
        "            print(i, end = \" \")\n",
        "            for j in range(len(self.values[i])):\n",
        "                print(\"-->\", end = \" \")\n",
        "                print(self.values[i][j], end = \" \")\n",
        "            print()"
      ],
      "metadata": {
        "id": "Q-h-Pyk1fCsf"
      },
      "execution_count": 85,
      "outputs": []
    },
    {
      "cell_type": "code",
      "source": [
        "a = Servers(17)\n",
        "for i in range(1,127):\n",
        "    a.insert(i)\n",
        "a.printTable()\n",
        "print()\n",
        "print(\"Changes in the server after it crashes\")\n",
        "a.crash(8,9,10,11)\n",
        "a.printTable()"
      ],
      "metadata": {
        "colab": {
          "base_uri": "https://localhost:8080/"
        },
        "id": "6Khx7CxWftHX",
        "outputId": "7013b349-affd-46c8-8e36-eeaf97cf20ae"
      },
      "execution_count": 86,
      "outputs": [
        {
          "output_type": "stream",
          "name": "stdout",
          "text": [
            "0 --> 17 --> 34 --> 51 --> 68 --> 85 --> 102 --> 119 \n",
            "1 --> 1 --> 18 --> 35 --> 52 --> 69 --> 86 --> 103 --> 120 \n",
            "2 --> 2 --> 19 --> 36 --> 53 --> 70 --> 87 --> 104 --> 121 \n",
            "3 --> 3 --> 20 --> 37 --> 54 --> 71 --> 88 --> 105 --> 122 \n",
            "4 --> 4 --> 21 --> 38 --> 55 --> 72 --> 89 --> 106 --> 123 \n",
            "5 --> 5 --> 22 --> 39 --> 56 --> 73 --> 90 --> 107 --> 124 \n",
            "6 --> 6 --> 23 --> 40 --> 57 --> 74 --> 91 --> 108 --> 125 \n",
            "7 --> 7 --> 24 --> 41 --> 58 --> 75 --> 92 --> 109 --> 126 \n",
            "8 --> 8 --> 25 --> 42 --> 59 --> 76 --> 93 --> 110 \n",
            "9 --> 9 --> 26 --> 43 --> 60 --> 77 --> 94 --> 111 \n",
            "10 --> 10 --> 27 --> 44 --> 61 --> 78 --> 95 --> 112 \n",
            "11 --> 11 --> 28 --> 45 --> 62 --> 79 --> 96 --> 113 \n",
            "12 --> 12 --> 29 --> 46 --> 63 --> 80 --> 97 --> 114 \n",
            "13 --> 13 --> 30 --> 47 --> 64 --> 81 --> 98 --> 115 \n",
            "14 --> 14 --> 31 --> 48 --> 65 --> 82 --> 99 --> 116 \n",
            "15 --> 15 --> 32 --> 49 --> 66 --> 83 --> 100 --> 117 \n",
            "16 --> 16 --> 33 --> 50 --> 67 --> 84 --> 101 --> 118 \n",
            "\n",
            "Changes in the server after it crashes\n",
            "Everyone from server  8 will go to  12\n",
            "Everyone from server  9 will go to  13\n",
            "Everyone from server  10 will go to  14\n",
            "Everyone from server  11 will go to  15\n",
            "0 --> 17 --> 34 --> 51 --> 68 --> 85 --> 102 --> 119 \n",
            "1 --> 1 --> 18 --> 35 --> 52 --> 69 --> 86 --> 103 --> 120 \n",
            "2 --> 2 --> 19 --> 36 --> 53 --> 70 --> 87 --> 104 --> 121 \n",
            "3 --> 3 --> 20 --> 37 --> 54 --> 71 --> 88 --> 105 --> 122 \n",
            "4 --> 4 --> 21 --> 38 --> 55 --> 72 --> 89 --> 106 --> 123 \n",
            "5 --> 5 --> 22 --> 39 --> 56 --> 73 --> 90 --> 107 --> 124 \n",
            "6 --> 6 --> 23 --> 40 --> 57 --> 74 --> 91 --> 108 --> 125 \n",
            "7 --> 7 --> 24 --> 41 --> 58 --> 75 --> 92 --> 109 --> 126 \n",
            "8 --> None --> None --> None --> None --> None --> None --> None \n",
            "9 --> None --> None --> None --> None --> None --> None --> None \n",
            "10 --> None --> None --> None --> None --> None --> None --> None \n",
            "11 --> None --> None --> None --> None --> None --> None --> None \n",
            "12 --> 12 --> 29 --> 46 --> 63 --> 80 --> 97 --> 114 --> 8 --> 25 --> 42 --> 59 --> 76 --> 93 --> 110 \n",
            "13 --> 13 --> 30 --> 47 --> 64 --> 81 --> 98 --> 115 --> 9 --> 26 --> 43 --> 60 --> 77 --> 94 --> 111 \n",
            "14 --> 14 --> 31 --> 48 --> 65 --> 82 --> 99 --> 116 --> 10 --> 27 --> 44 --> 61 --> 78 --> 95 --> 112 \n",
            "15 --> 15 --> 32 --> 49 --> 66 --> 83 --> 100 --> 117 --> 11 --> 28 --> 45 --> 62 --> 79 --> 96 --> 113 \n",
            "16 --> 16 --> 33 --> 50 --> 67 --> 84 --> 101 --> 118 \n"
          ]
        }
      ]
    }
  ]
}